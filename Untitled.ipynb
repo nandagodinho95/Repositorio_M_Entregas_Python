{
 "cells": [
  {
   "cell_type": "code",
   "execution_count": 1,
   "id": "95141cef",
   "metadata": {},
   "outputs": [
    {
     "name": "stdout",
     "output_type": "stream",
     "text": [
      "Olá aluno Cetam! Iniciamos com Python \n"
     ]
    }
   ],
   "source": [
    "print(\"Olá aluno Cetam! Iniciamos com Python \")"
   ]
  },
  {
   "cell_type": "code",
   "execution_count": 2,
   "id": "3a4e10e9",
   "metadata": {
    "scrolled": true
   },
   "outputs": [
    {
     "data": {
      "text/plain": [
       "6"
      ]
     },
     "execution_count": 2,
     "metadata": {},
     "output_type": "execute_result"
    }
   ],
   "source": [
    "2+4"
   ]
  },
  {
   "cell_type": "code",
   "execution_count": 3,
   "id": "7e823fc7",
   "metadata": {},
   "outputs": [
    {
     "name": "stdout",
     "output_type": "stream",
     "text": [
      "Olá mundo!\n"
     ]
    }
   ],
   "source": [
    " print(\"Olá mundo!\")"
   ]
  },
  {
   "cell_type": "code",
   "execution_count": 4,
   "id": "6455b73f",
   "metadata": {},
   "outputs": [
    {
     "name": "stdout",
     "output_type": "stream",
     "text": [
      "2\n"
     ]
    }
   ],
   "source": [
    "print(2)"
   ]
  },
  {
   "cell_type": "code",
   "execution_count": 5,
   "id": "a89c4aa7",
   "metadata": {},
   "outputs": [
    {
     "name": "stdout",
     "output_type": "stream",
     "text": [
      "Olá mundo 2!\n"
     ]
    }
   ],
   "source": [
    "print('Olá mundo 2!')"
   ]
  },
  {
   "cell_type": "code",
   "execution_count": 6,
   "id": "b56dad8c",
   "metadata": {},
   "outputs": [
    {
     "ename": "SyntaxError",
     "evalue": "invalid syntax (Temp/ipykernel_10092/1057246432.py, line 1)",
     "output_type": "error",
     "traceback": [
      "\u001b[1;36m  File \u001b[1;32m\"C:\\Users\\aluno11\\AppData\\Local\\Temp/ipykernel_10092/1057246432.py\"\u001b[1;36m, line \u001b[1;32m1\u001b[0m\n\u001b[1;33m    print(Olá mundo!)\u001b[0m\n\u001b[1;37m              ^\u001b[0m\n\u001b[1;31mSyntaxError\u001b[0m\u001b[1;31m:\u001b[0m invalid syntax\n"
     ]
    }
   ],
   "source": [
    "print(Olá mundo!)"
   ]
  },
  {
   "cell_type": "code",
   "execution_count": 7,
   "id": "f9c33907",
   "metadata": {},
   "outputs": [
    {
     "name": "stdout",
     "output_type": "stream",
     "text": [
      "6\n"
     ]
    }
   ],
   "source": [
    "print(1+5)"
   ]
  },
  {
   "cell_type": "code",
   "execution_count": 8,
   "id": "666cd104",
   "metadata": {},
   "outputs": [
    {
     "name": "stdout",
     "output_type": "stream",
     "text": [
      "10\n"
     ]
    }
   ],
   "source": [
    "print(1+3*3)"
   ]
  },
  {
   "cell_type": "code",
   "execution_count": 9,
   "id": "460f79c4",
   "metadata": {},
   "outputs": [
    {
     "name": "stdout",
     "output_type": "stream",
     "text": [
      "Eu estudo LP no CETAM\n"
     ]
    }
   ],
   "source": [
    "print(\"Eu estudo LP no CETAM\")"
   ]
  },
  {
   "cell_type": "code",
   "execution_count": 10,
   "id": "cc798869",
   "metadata": {},
   "outputs": [
    {
     "name": "stdout",
     "output_type": "stream",
     "text": [
      "Estou estudando Python\n"
     ]
    }
   ],
   "source": [
    "print('Estou estudando '+ 'Python')"
   ]
  },
  {
   "cell_type": "code",
   "execution_count": 11,
   "id": "c56ab28d",
   "metadata": {},
   "outputs": [
    {
     "name": "stdout",
     "output_type": "stream",
     "text": [
      "False\n"
     ]
    }
   ],
   "source": [
    "print('Estou estudando 'in ' Python')"
   ]
  },
  {
   "cell_type": "code",
   "execution_count": 12,
   "id": "dddfb7de",
   "metadata": {},
   "outputs": [
    {
     "name": "stdout",
     "output_type": "stream",
     "text": [
      "True\n"
     ]
    }
   ],
   "source": [
    "print('Py' in 'Hiram á professor Python' )"
   ]
  },
  {
   "cell_type": "code",
   "execution_count": 13,
   "id": "77432df7",
   "metadata": {},
   "outputs": [],
   "source": [
    "print = \"texto\""
   ]
  },
  {
   "cell_type": "code",
   "execution_count": 14,
   "id": "a3d84196",
   "metadata": {},
   "outputs": [
    {
     "ename": "TypeError",
     "evalue": "'str' object is not callable",
     "output_type": "error",
     "traceback": [
      "\u001b[1;31m---------------------------------------------------------------------------\u001b[0m",
      "\u001b[1;31mTypeError\u001b[0m                                 Traceback (most recent call last)",
      "\u001b[1;32m~\\AppData\\Local\\Temp/ipykernel_10092/3378417780.py\u001b[0m in \u001b[0;36m<module>\u001b[1;34m\u001b[0m\n\u001b[1;32m----> 1\u001b[1;33m \u001b[0mprint\u001b[0m \u001b[1;33m(\u001b[0m\u001b[1;34m\"texto\"\u001b[0m\u001b[1;33m)\u001b[0m\u001b[1;33m\u001b[0m\u001b[1;33m\u001b[0m\u001b[0m\n\u001b[0m",
      "\u001b[1;31mTypeError\u001b[0m: 'str' object is not callable"
     ]
    }
   ],
   "source": [
    "print (\"texto\")"
   ]
  },
  {
   "cell_type": "code",
   "execution_count": null,
   "id": "fa09e5c3",
   "metadata": {},
   "outputs": [],
   "source": []
  }
 ],
 "metadata": {
  "kernelspec": {
   "display_name": "Python 3 (ipykernel)",
   "language": "python",
   "name": "python3"
  },
  "language_info": {
   "codemirror_mode": {
    "name": "ipython",
    "version": 3
   },
   "file_extension": ".py",
   "mimetype": "text/x-python",
   "name": "python",
   "nbconvert_exporter": "python",
   "pygments_lexer": "ipython3",
   "version": "3.9.7"
  }
 },
 "nbformat": 4,
 "nbformat_minor": 5
}
